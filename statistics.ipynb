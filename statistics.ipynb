{
  "nbformat": 4,
  "nbformat_minor": 0,
  "metadata": {
    "colab": {
      "provenance": [],
      "include_colab_link": true
    },
    "kernelspec": {
      "name": "python3",
      "display_name": "Python 3"
    },
    "language_info": {
      "name": "python"
    }
  },
  "cells": [
    {
      "cell_type": "markdown",
      "metadata": {
        "id": "view-in-github",
        "colab_type": "text"
      },
      "source": [
        "<a href=\"https://colab.research.google.com/github/RevazRevazashvili/data-science-bootcamp/blob/main/statistics.ipynb\" target=\"_parent\"><img src=\"https://colab.research.google.com/assets/colab-badge.svg\" alt=\"Open In Colab\"/></a>"
      ]
    },
    {
      "cell_type": "markdown",
      "source": [
        "**აღწერითი სტატისტიკა**"
      ],
      "metadata": {
        "id": "oLXBgqx6j5hY"
      }
    },
    {
      "cell_type": "code",
      "source": [
        "import pandas as pd\n",
        "import numpy as np\n",
        "import random\n",
        "from random import randint"
      ],
      "metadata": {
        "id": "5GUyPu-WkC91"
      },
      "execution_count": 1,
      "outputs": []
    },
    {
      "cell_type": "code",
      "source": [
        "random.seed(21)\n",
        "lst = [randint(0, 100) for i in range(10)]"
      ],
      "metadata": {
        "id": "jmvpnYsgkGmd"
      },
      "execution_count": 2,
      "outputs": []
    },
    {
      "cell_type": "code",
      "source": [
        "lst"
      ],
      "metadata": {
        "colab": {
          "base_uri": "https://localhost:8080/"
        },
        "id": "0USAlfewkS-f",
        "outputId": "5255c4eb-b715-484b-9679-4e766263e188"
      },
      "execution_count": 3,
      "outputs": [
        {
          "output_type": "execute_result",
          "data": {
            "text/plain": [
              "[21, 53, 88, 53, 81, 36, 61, 27, 60, 65]"
            ]
          },
          "metadata": {},
          "execution_count": 3
        }
      ]
    },
    {
      "cell_type": "code",
      "source": [
        "# საშუალო = ჯამი / რაოდენობასთან\n",
        "avg = sum(lst) / len(lst)\n",
        "avg"
      ],
      "metadata": {
        "colab": {
          "base_uri": "https://localhost:8080/"
        },
        "id": "26MprKa0j9iC",
        "outputId": "abf9a1d7-b5ba-4e06-9bd3-8e24ec13e854"
      },
      "execution_count": 4,
      "outputs": [
        {
          "output_type": "execute_result",
          "data": {
            "text/plain": [
              "54.5"
            ]
          },
          "metadata": {},
          "execution_count": 4
        }
      ]
    },
    {
      "cell_type": "code",
      "source": [
        "s_lst = pd.Series(lst)\n",
        "print(s_lst.mean())"
      ],
      "metadata": {
        "colab": {
          "base_uri": "https://localhost:8080/"
        },
        "id": "dlAJ8M8Xkped",
        "outputId": "531b91d8-1efa-46a1-8e5d-d734c56b4f19"
      },
      "execution_count": 5,
      "outputs": [
        {
          "output_type": "stream",
          "name": "stdout",
          "text": [
            "54.5\n"
          ]
        }
      ]
    },
    {
      "cell_type": "code",
      "source": [
        "s_lst = s_lst.sort_values().reset_index(drop=True)\n",
        "s_lst"
      ],
      "metadata": {
        "colab": {
          "base_uri": "https://localhost:8080/"
        },
        "id": "PzuXWUA1nmt0",
        "outputId": "bd4fdea1-04d4-4096-8b94-98f4e59c43a0"
      },
      "execution_count": 6,
      "outputs": [
        {
          "output_type": "execute_result",
          "data": {
            "text/plain": [
              "0    21\n",
              "1    27\n",
              "2    36\n",
              "3    53\n",
              "4    53\n",
              "5    60\n",
              "6    61\n",
              "7    65\n",
              "8    81\n",
              "9    88\n",
              "dtype: int64"
            ]
          },
          "metadata": {},
          "execution_count": 6
        }
      ]
    },
    {
      "cell_type": "code",
      "source": [
        "# მედიანა ზრდადობით დალაგებული მასივის შუა ელემენტი. თუ ლუწი რაოდენობის ელემენტები გვაქვს მაშინ შუა ორის საშუალო\n",
        "s_lst.median()"
      ],
      "metadata": {
        "colab": {
          "base_uri": "https://localhost:8080/"
        },
        "id": "k4y2jZsJk4Dv",
        "outputId": "06954f3c-5d6f-4a35-87f7-00e369b65d15"
      },
      "execution_count": 7,
      "outputs": [
        {
          "output_type": "execute_result",
          "data": {
            "text/plain": [
              "56.5"
            ]
          },
          "metadata": {},
          "execution_count": 7
        }
      ]
    },
    {
      "cell_type": "code",
      "source": [
        "# მოდა, რიცხვი (ან რიცხვები), რომლებიც ყველაზე ხშირად გვხვდება\n",
        "s_lst.mode()"
      ],
      "metadata": {
        "colab": {
          "base_uri": "https://localhost:8080/"
        },
        "id": "jQYmvJm_ldkl",
        "outputId": "f7f19920-bcde-4330-b194-754c729d12fe"
      },
      "execution_count": 8,
      "outputs": [
        {
          "output_type": "execute_result",
          "data": {
            "text/plain": [
              "0    53\n",
              "dtype: int64"
            ]
          },
          "metadata": {},
          "execution_count": 8
        }
      ]
    },
    {
      "cell_type": "code",
      "source": [
        "# გაბნევის დიაპაზონი. მაქსიმალური და მინიმალური ელემენტების სხვაობა\n",
        "s_lst.max() - s_lst.min()"
      ],
      "metadata": {
        "colab": {
          "base_uri": "https://localhost:8080/"
        },
        "id": "prqvwP7hnYXd",
        "outputId": "c5277e50-7634-4e48-fd8b-bf599e26285a"
      },
      "execution_count": 9,
      "outputs": [
        {
          "output_type": "execute_result",
          "data": {
            "text/plain": [
              "67"
            ]
          },
          "metadata": {},
          "execution_count": 9
        }
      ]
    },
    {
      "cell_type": "code",
      "source": [
        "# სტანდარტული გადახრა. რამდენად გაბნეულია მონაცემები\n",
        "s_lst.std()"
      ],
      "metadata": {
        "colab": {
          "base_uri": "https://localhost:8080/"
        },
        "id": "2kcci9x5oANr",
        "outputId": "bfbf9df6-e5b8-4102-d552-bb0cebbf71e3"
      },
      "execution_count": 10,
      "outputs": [
        {
          "output_type": "execute_result",
          "data": {
            "text/plain": [
              "21.68588890909888"
            ]
          },
          "metadata": {},
          "execution_count": 10
        }
      ]
    },
    {
      "cell_type": "markdown",
      "source": [
        "![std.png](data:image/png;base64,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)"
      ],
      "metadata": {
        "id": "Gg4cLL8Ro8lk"
      }
    },
    {
      "cell_type": "code",
      "source": [
        "# დისტრიბუცია. რომელი ელემენტებია ხშირი და იშვიათი\n",
        "s_lst.describe()"
      ],
      "metadata": {
        "colab": {
          "base_uri": "https://localhost:8080/"
        },
        "id": "SKpk_H6gommi",
        "outputId": "33e2f615-b4ca-41b1-e22e-80154b181c8c"
      },
      "execution_count": 11,
      "outputs": [
        {
          "output_type": "execute_result",
          "data": {
            "text/plain": [
              "count    10.000000\n",
              "mean     54.500000\n",
              "std      21.685889\n",
              "min      21.000000\n",
              "25%      40.250000\n",
              "50%      56.500000\n",
              "75%      64.000000\n",
              "max      88.000000\n",
              "dtype: float64"
            ]
          },
          "metadata": {},
          "execution_count": 11
        }
      ]
    },
    {
      "cell_type": "code",
      "source": [
        "# outlier. არის ელემენტი რომელიც შეუსაბამოა მოცემული ელემენტებისთვის\n",
        "s_lst.append(pd.Series([1500]))"
      ],
      "metadata": {
        "colab": {
          "base_uri": "https://localhost:8080/"
        },
        "id": "yKqB-lappb43",
        "outputId": "34cb9a41-7d6b-493c-e57c-50f58db3db9d"
      },
      "execution_count": 12,
      "outputs": [
        {
          "output_type": "stream",
          "name": "stderr",
          "text": [
            "<ipython-input-12-89014ed7fc0f>:2: FutureWarning: The series.append method is deprecated and will be removed from pandas in a future version. Use pandas.concat instead.\n",
            "  s_lst.append(pd.Series([1500]))\n"
          ]
        },
        {
          "output_type": "execute_result",
          "data": {
            "text/plain": [
              "0      21\n",
              "1      27\n",
              "2      36\n",
              "3      53\n",
              "4      53\n",
              "5      60\n",
              "6      61\n",
              "7      65\n",
              "8      81\n",
              "9      88\n",
              "0    1500\n",
              "dtype: int64"
            ]
          },
          "metadata": {},
          "execution_count": 12
        }
      ]
    },
    {
      "cell_type": "markdown",
      "source": [
        "აქ დიდი ალბათობით 1500 არის outlier"
      ],
      "metadata": {
        "id": "hPWSmgZdq72b"
      }
    },
    {
      "cell_type": "code",
      "source": [
        "lst = [randint(0, 1000) for i in range(100)]"
      ],
      "metadata": {
        "id": "jXDFBkNJqKJg"
      },
      "execution_count": 13,
      "outputs": []
    },
    {
      "cell_type": "code",
      "source": [
        "# დაწეტეთ ალგორითმი რომელიც დაითვლის საშუალოს built-in ფუნქციების გამოყენების გარეშე\n",
        "avg =...\n",
        "print(avg == pd.Series(lst).mean())"
      ],
      "metadata": {
        "id": "dgQ_mCXTrWTm",
        "outputId": "6ef02f94-e029-46f3-f6d1-c5a6cdf1a652",
        "colab": {
          "base_uri": "https://localhost:8080/"
        }
      },
      "execution_count": 14,
      "outputs": [
        {
          "output_type": "stream",
          "name": "stdout",
          "text": [
            "False\n"
          ]
        }
      ]
    },
    {
      "cell_type": "code",
      "source": [
        "# დაწერეთ ალორითმი რომელიც დაითვლის მედიანას built-in ფუნქციების გამოყენების გარეშე\n",
        "sorted_lst = sorted(lst)\n",
        "n = len(sorted_lst)\n",
        "# თქვენი ალგორითი\n",
        "\n",
        "\n",
        "\n",
        "\n",
        "median = ...\n",
        "print(median == pd.Series(lst).median())"
      ],
      "metadata": {
        "id": "S7iHaLJ_rcCb",
        "outputId": "66200845-78dd-4102-f5d1-9f2d83d5c731",
        "colab": {
          "base_uri": "https://localhost:8080/"
        }
      },
      "execution_count": 15,
      "outputs": [
        {
          "output_type": "stream",
          "name": "stdout",
          "text": [
            "False\n"
          ]
        }
      ]
    },
    {
      "cell_type": "markdown",
      "source": [
        "ესენი შედარებით რთულია, სახლში შეგიძლიათ ცადოთ (თვითშემოწმებისთვის)"
      ],
      "metadata": {
        "id": "va3-tj-it6PQ"
      }
    },
    {
      "cell_type": "code",
      "source": [
        "# დაწერეთ ალორითმი რომელიც დაითვლის მოდას pandas-ის გარეშე\n",
        "random.seed(42)\n",
        "lst = [randint(0, 100) for i in range(15)]\n",
        "print(lst)\n",
        "np.sort(lst)\n",
        "max = 1\n",
        "mode = 1\n",
        "for i in lst:\n",
        "  if lst.count(i)>max:\n",
        "    max = lst.count(i)\n",
        "    mode = i\n",
        "print(f'mode is {mode} it appears {max} time')"
      ],
      "metadata": {
        "id": "xjAMJg9nrpoF",
        "outputId": "9096c35f-6cd3-48cf-e8bc-1b3b98f4e9cc",
        "colab": {
          "base_uri": "https://localhost:8080/"
        }
      },
      "execution_count": 24,
      "outputs": [
        {
          "output_type": "stream",
          "name": "stdout",
          "text": [
            "[81, 14, 3, 94, 35, 31, 28, 17, 94, 13, 86, 94, 69, 11, 75]\n",
            "mode is 94 it appears 3 time\n"
          ]
        }
      ]
    },
    {
      "cell_type": "code",
      "source": [
        "# დაწერეთ ალორითმი რომელიც დაითვლის გაბნევის დიაპაზონს pandas-ის გარეშე\n",
        "max,min=lst[0],lst[0]\n",
        "for i in lst:\n",
        "  if i > max:\n",
        "    max = i\n",
        "  if i < min:\n",
        "    min = i\n",
        "max,min\n",
        "gab_dia = max - min\n",
        "print(gab_dia)"
      ],
      "metadata": {
        "id": "GXKwCd52rvT3",
        "outputId": "f4e1552e-8916-4307-c01f-7dcba7918406",
        "colab": {
          "base_uri": "https://localhost:8080/"
        }
      },
      "execution_count": 29,
      "outputs": [
        {
          "output_type": "stream",
          "name": "stdout",
          "text": [
            "91\n"
          ]
        }
      ]
    },
    {
      "cell_type": "code",
      "source": [
        "# დაწერეთ ალორითმი რომელიც დაითვლის სტანდარტულ გადახრას (შეგიძლიათ მხოლოდ sqrt() ფუნქციის გამოყენება)\n",
        "sum = 0\n",
        "counter = 0\n",
        "for i in lst:\n",
        "  sum+=i\n",
        "  counter+=1\n",
        "av = sum/counter\n",
        "squares = 0\n",
        "for i in lst:\n",
        "  squares += np.power(i-av,2)\n",
        "my_std = np.sqrt(squares/counter)\n",
        "print(f'std by hand = {my_std}')\n",
        "print(f'std by numpy = {np.std(lst)}')"
      ],
      "metadata": {
        "id": "VtoaSWEEt1LJ",
        "outputId": "136258f1-e1a1-4d80-e37b-f64af0ee6cc2",
        "colab": {
          "base_uri": "https://localhost:8080/"
        }
      },
      "execution_count": 37,
      "outputs": [
        {
          "output_type": "stream",
          "name": "stdout",
          "text": [
            "std by hand = 34.25719713513578\n",
            "std by numpy = 34.25719713513578\n"
          ]
        }
      ]
    },
    {
      "cell_type": "code",
      "source": [],
      "metadata": {
        "id": "WMA7QgGJmbKl"
      },
      "execution_count": null,
      "outputs": []
    }
  ]
}